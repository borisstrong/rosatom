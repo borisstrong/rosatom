{
  "nbformat": 4,
  "nbformat_minor": 0,
  "metadata": {
    "colab": {
      "name": "final-names_n_idx_extracting.ipynb",
      "provenance": [],
      "collapsed_sections": []
    },
    "kernelspec": {
      "display_name": "Python 3",
      "language": "python",
      "name": "python3"
    },
    "language_info": {
      "codemirror_mode": {
        "name": "ipython",
        "version": 3
      },
      "file_extension": ".py",
      "mimetype": "text/x-python",
      "name": "python",
      "nbconvert_exporter": "python",
      "pygments_lexer": "ipython3",
      "version": "3.8.10"
    }
  },
  "cells": [
    {
      "cell_type": "code",
      "metadata": {
        "colab": {
          "base_uri": "https://localhost:8080/"
        },
        "id": "z-aRwrBF6ZYa",
        "outputId": "b18d5b89-5368-4b5e-8947-67ec8383da3b"
      },
      "source": [
        "!pip install eo-learn -q"
      ],
      "execution_count": null,
      "outputs": [
        {
          "output_type": "stream",
          "name": "stdout",
          "text": [
            "\u001b[K     |████████████████████████████████| 10.5 MB 9.4 MB/s \n",
            "\u001b[K     |████████████████████████████████| 69 kB 8.0 MB/s \n",
            "\u001b[K     |████████████████████████████████| 201 kB 73.0 MB/s \n",
            "\u001b[K     |████████████████████████████████| 133 kB 58.0 MB/s \n",
            "\u001b[K     |████████████████████████████████| 131 kB 68.6 MB/s \n",
            "\u001b[K     |████████████████████████████████| 1.0 MB 77.3 MB/s \n",
            "\u001b[K     |████████████████████████████████| 53.8 MB 138 kB/s \n",
            "\u001b[K     |████████████████████████████████| 19.3 MB 380 kB/s \n",
            "\u001b[K     |████████████████████████████████| 15.4 MB 41.3 MB/s \n",
            "\u001b[K     |████████████████████████████████| 994 kB 40.0 MB/s \n",
            "\u001b[K     |████████████████████████████████| 6.3 MB 22.0 MB/s \n",
            "\u001b[K     |████████████████████████████████| 3.1 MB 41.3 MB/s \n",
            "\u001b[K     |████████████████████████████████| 8.4 MB 11.5 MB/s \n",
            "\u001b[K     |████████████████████████████████| 128 kB 59.3 MB/s \n",
            "\u001b[K     |████████████████████████████████| 79 kB 8.9 MB/s \n",
            "\u001b[K     |████████████████████████████████| 127 kB 64.0 MB/s \n",
            "\u001b[K     |████████████████████████████████| 47 kB 5.5 MB/s \n",
            "\u001b[K     |████████████████████████████████| 44 kB 3.3 MB/s \n",
            "\u001b[K     |████████████████████████████████| 1.4 MB 24.9 MB/s \n",
            "\u001b[?25h  Building wheel for sentinelhub (setup.py) ... \u001b[?25l\u001b[?25hdone\n",
            "  Building wheel for thunder-registration (setup.py) ... \u001b[?25l\u001b[?25hdone\n",
            "  Building wheel for thunder-python (setup.py) ... \u001b[?25l\u001b[?25hdone\n",
            "  Building wheel for bolt-python (setup.py) ... \u001b[?25l\u001b[?25hdone\n",
            "  Building wheel for utm (setup.py) ... \u001b[?25l\u001b[?25hdone\n",
            "\u001b[31mERROR: pip's dependency resolver does not currently take into account all the packages that are installed. This behaviour is the source of the following dependency conflicts.\n",
            "datascience 0.10.6 requires folium==0.2.1, but you have folium 0.8.3 which is incompatible.\n",
            "albumentations 0.1.12 requires imgaug<0.2.7,>=0.2.5, but you have imgaug 0.2.9 which is incompatible.\u001b[0m\n"
          ]
        }
      ]
    },
    {
      "cell_type": "code",
      "metadata": {
        "id": "bc0Ar_zmnitf"
      },
      "source": [
        "import tensorflow as tf\n",
        "from tensorflow.keras import layers\n",
        "from tensorflow import keras\n",
        "\n",
        "import numpy as np\n",
        "import pandas as pd\n",
        "import matplotlib.pyplot as plt\n",
        "import os, glob\n",
        "import cv2\n",
        "import eolearn\n",
        "import gdown\n",
        "\n",
        "from eolearn.core import EOPatch, FeatureType"
      ],
      "execution_count": null,
      "outputs": []
    },
    {
      "cell_type": "code",
      "metadata": {
        "id": "qVrI6cItW9OU"
      },
      "source": [
        "import warnings\n",
        "warnings.filterwarnings('ignore')"
      ],
      "execution_count": null,
      "outputs": []
    },
    {
      "cell_type": "code",
      "metadata": {
        "colab": {
          "base_uri": "https://localhost:8080/"
        },
        "id": "vHdOnx8jhcF7",
        "outputId": "e22b2c9d-5fdc-4dd5-a7aa-debfc30aab00"
      },
      "source": [
        "from google.colab import drive #a\n",
        "drive.mount('/content/drive')"
      ],
      "execution_count": null,
      "outputs": [
        {
          "output_type": "stream",
          "name": "stdout",
          "text": [
            "Mounted at /content/drive\n"
          ]
        }
      ]
    },
    {
      "cell_type": "markdown",
      "metadata": {
        "id": "Dwtqas9Amv84"
      },
      "source": [
        "# Гиперпараметры"
      ]
    },
    {
      "cell_type": "code",
      "metadata": {
        "id": "oqRpv04cmmxr"
      },
      "source": [
        "TARGET_SIZE = (64, 64)"
      ],
      "execution_count": null,
      "outputs": []
    },
    {
      "cell_type": "markdown",
      "metadata": {
        "id": "WZ5YVozKmyl3"
      },
      "source": [
        "# Загрузка архива"
      ]
    },
    {
      "cell_type": "markdown",
      "metadata": {
        "id": "AeMjdyuM0x_0"
      },
      "source": [
        "### Разливы"
      ]
    },
    {
      "cell_type": "code",
      "metadata": {
        "colab": {
          "base_uri": "https://localhost:8080/"
        },
        "id": "SV2Uv3fsiND3",
        "outputId": "47efcd3d-975e-4200-c28c-3d160be1a31d"
      },
      "source": [
        "archive_id = '1pUnNNxtpRFVJWmX4uiudS4mnF1aXfibH'\n",
        "archivename = gdown.download('https://drive.google.com/uc?id={}'.format(archive_id), None, False)"
      ],
      "execution_count": null,
      "outputs": [
        {
          "output_type": "stream",
          "name": "stderr",
          "text": [
            "Downloading...\n",
            "From: https://drive.google.com/uc?id=1pUnNNxtpRFVJWmX4uiudS4mnF1aXfibH\n",
            "To: /content/2021-01.zip\n",
            "100%|██████████| 641M/641M [00:11<00:00, 56.6MB/s]\n"
          ]
        }
      ]
    },
    {
      "cell_type": "code",
      "metadata": {
        "id": "_Rq7UEZAh_2r"
      },
      "source": [
        "!unzip -q {archivename} -d /content/spills2"
      ],
      "execution_count": null,
      "outputs": []
    },
    {
      "cell_type": "code",
      "metadata": {
        "id": "k_eoriLh9Ajz"
      },
      "source": [
        "# !unzip -q /content/drive/MyDrive/colab_files/final/spills/2021-01.zip -d /content/spills2"
      ],
      "execution_count": null,
      "outputs": []
    },
    {
      "cell_type": "code",
      "metadata": {
        "colab": {
          "base_uri": "https://localhost:8080/"
        },
        "id": "v9fsLBWcCHtQ",
        "outputId": "02315eaa-694d-4446-cd7f-e047b6b3b1fb"
      },
      "source": [
        "!find . -type f -name *.gz -exec gunzip {} +"
      ],
      "execution_count": null,
      "outputs": [
        {
          "output_type": "stream",
          "name": "stdout",
          "text": [
            "\n",
            "gzip: ./non_spills2/2021-16/066d5e49-b109-4bbd-8178-5599e1593620/sentinel2-l2a/patches/64x64-10/2021/timestamp.pkl.gz: unexpected end of file\n",
            "\n",
            "gzip: ./spills2/2021-01/ПП-2013-198/mask/SNW.npy.gz: unexpected end of file\n"
          ]
        }
      ]
    },
    {
      "cell_type": "markdown",
      "metadata": {
        "id": "4RuHOKBF0trF"
      },
      "source": [
        "### Трубопроводы"
      ]
    },
    {
      "cell_type": "code",
      "metadata": {
        "colab": {
          "base_uri": "https://localhost:8080/"
        },
        "id": "QiF3H0f108e3",
        "outputId": "9a746ade-01fb-4e1a-cc4e-9bafe1ba90ec"
      },
      "source": [
        "archive_id = '1QWV1RHNVwuVzomhyMXVd-Vy2yZjyNMru'\n",
        "archivename = gdown.download('https://drive.google.com/uc?id={}'.format(archive_id), None, False)"
      ],
      "execution_count": null,
      "outputs": [
        {
          "output_type": "stream",
          "name": "stderr",
          "text": [
            "Downloading...\n",
            "From: https://drive.google.com/uc?id=1QWV1RHNVwuVzomhyMXVd-Vy2yZjyNMru\n",
            "To: /content/2021-16.zip\n",
            "100%|██████████| 1.54G/1.54G [00:14<00:00, 106MB/s] \n"
          ]
        }
      ]
    },
    {
      "cell_type": "code",
      "metadata": {
        "id": "1Fk1SSrl08e4"
      },
      "source": [
        "# https://drive.google.com/file/d/1QWV1RHNVwuVzomhyMXVd-Vy2yZjyNMru/view?usp=sharing\n",
        "\n",
        "!unzip -q {archivename} -d /content/non_spills2"
      ],
      "execution_count": null,
      "outputs": []
    },
    {
      "cell_type": "code",
      "metadata": {
        "colab": {
          "base_uri": "https://localhost:8080/"
        },
        "id": "AV8QwVUn08e5",
        "outputId": "066414b4-c266-4baa-88f3-72b291ad4ee8"
      },
      "source": [
        "!find . -type f -name *.gz -exec gunzip {} +"
      ],
      "execution_count": null,
      "outputs": [
        {
          "output_type": "stream",
          "name": "stdout",
          "text": [
            "\n",
            "gzip: ./non_spills2/2021-16/066d5e49-b109-4bbd-8178-5599e1593620/sentinel2-l2a/patches/64x64-10/2021/timestamp.pkl.gz: unexpected end of file\n",
            "\n",
            "gzip: ./non_spills2/2021-16/0c395a12-35f0-4944-b4df-f8dfece61d85/sentinel2-l2a/patches/64x64-10/2021/bbox.pkl.gz: unexpected end of file\n"
          ]
        }
      ]
    },
    {
      "cell_type": "code",
      "metadata": {
        "id": "qlVgQt5V0wWx"
      },
      "source": [
        ""
      ],
      "execution_count": null,
      "outputs": []
    },
    {
      "cell_type": "markdown",
      "metadata": {
        "id": "VzOD4Uhs7edH"
      },
      "source": [
        "### СSV"
      ]
    },
    {
      "cell_type": "code",
      "metadata": {
        "colab": {
          "base_uri": "https://localhost:8080/"
        },
        "id": "EwS8c5xg7hQy",
        "outputId": "4e59dc33-bebc-41d7-a425-8ed1346f5bb4"
      },
      "source": [
        "file_id = '1Eo08JT3zZT8nktTE2Wwqfwng4bpbnNGU'\n",
        "filename = gdown.download('https://drive.google.com/uc?id={}'.format(file_id), None, False)"
      ],
      "execution_count": null,
      "outputs": [
        {
          "output_type": "stream",
          "name": "stderr",
          "text": [
            "Downloading...\n",
            "From: https://drive.google.com/uc?id=1Eo08JT3zZT8nktTE2Wwqfwng4bpbnNGU\n",
            "To: /content/clean_pollution.csv\n",
            "100%|██████████| 650k/650k [00:00<00:00, 4.94MB/s]\n"
          ]
        }
      ]
    },
    {
      "cell_type": "markdown",
      "metadata": {
        "id": "ki4VoIapInRq"
      },
      "source": [
        "# Фильтрация"
      ]
    },
    {
      "cell_type": "code",
      "metadata": {
        "colab": {
          "base_uri": "https://localhost:8080/",
          "height": 174
        },
        "id": "bb3r9X6pIn6c",
        "outputId": "18bf0729-6992-456a-ddb9-1da4b0a7d437"
      },
      "source": [
        "csv_bboxes = \"1pR_hac5F1cRO-PoUHCypAWdsLvMXItr9\"\n",
        "csv_dates = \"1WIJm5FM5SLkBAumwxEKMk6qiV0tPPKxX\"\n",
        "\n",
        "gdown.download('https://drive.google.com/uc?id={}'.format(csv_bboxes), None, False)\n",
        "gdown.download('https://drive.google.com/uc?id={}'.format(csv_dates), None, False)\n"
      ],
      "execution_count": null,
      "outputs": [
        {
          "output_type": "stream",
          "name": "stderr",
          "text": [
            "Downloading...\n",
            "From: https://drive.google.com/uc?id=1pR_hac5F1cRO-PoUHCypAWdsLvMXItr9\n",
            "To: /content/bbox_2021.csv\n",
            "100%|██████████| 1.18M/1.18M [00:00<00:00, 6.59MB/s]\n",
            "Downloading...\n",
            "From: https://drive.google.com/uc?id=1WIJm5FM5SLkBAumwxEKMk6qiV0tPPKxX\n",
            "To: /content/timestamp_2021.csv\n",
            "100%|██████████| 9.02M/9.02M [00:00<00:00, 30.8MB/s]\n"
          ]
        },
        {
          "output_type": "execute_result",
          "data": {
            "application/vnd.google.colaboratory.intrinsic+json": {
              "type": "string"
            },
            "text/plain": [
              "'timestamp_2021.csv'"
            ]
          },
          "metadata": {},
          "execution_count": 34
        }
      ]
    },
    {
      "cell_type": "code",
      "metadata": {
        "id": "guAlCvuaJdR6"
      },
      "source": [
        "df_dates = pd.read_csv('/content/timestamp_2021.csv', index_col=0)\n",
        "df_bboxes = pd.read_csv('/content/bbox_2021.csv', index_col=0)"
      ],
      "execution_count": null,
      "outputs": []
    },
    {
      "cell_type": "code",
      "metadata": {
        "colab": {
          "base_uri": "https://localhost:8080/",
          "height": 395
        },
        "id": "Q0jNUJovJsSS",
        "outputId": "bc882eeb-1941-4936-9271-82d7bdfbed08"
      },
      "source": [
        "display(df_bboxes.head())\n",
        "display(df_dates.head())"
      ],
      "execution_count": null,
      "outputs": [
        {
          "output_type": "display_data",
          "data": {
            "text/html": [
              "<div>\n",
              "<style scoped>\n",
              "    .dataframe tbody tr th:only-of-type {\n",
              "        vertical-align: middle;\n",
              "    }\n",
              "\n",
              "    .dataframe tbody tr th {\n",
              "        vertical-align: top;\n",
              "    }\n",
              "\n",
              "    .dataframe thead th {\n",
              "        text-align: right;\n",
              "    }\n",
              "</style>\n",
              "<table border=\"1\" class=\"dataframe\">\n",
              "  <thead>\n",
              "    <tr style=\"text-align: right;\">\n",
              "      <th></th>\n",
              "      <th>dir</th>\n",
              "      <th>name</th>\n",
              "      <th>x1</th>\n",
              "      <th>y1</th>\n",
              "      <th>x2</th>\n",
              "      <th>y2</th>\n",
              "    </tr>\n",
              "  </thead>\n",
              "  <tbody>\n",
              "    <tr>\n",
              "      <th>0</th>\n",
              "      <td>2021-14</td>\n",
              "      <td>РН-ЮНГ-ММ-2018-139</td>\n",
              "      <td>72.941261</td>\n",
              "      <td>60.750928</td>\n",
              "      <td>72.952629</td>\n",
              "      <td>60.756850</td>\n",
              "    </tr>\n",
              "    <tr>\n",
              "      <th>1</th>\n",
              "      <td>2021-14</td>\n",
              "      <td>РН-ЮНГ-ММ-2018-130</td>\n",
              "      <td>72.785153</td>\n",
              "      <td>60.816755</td>\n",
              "      <td>72.796515</td>\n",
              "      <td>60.822690</td>\n",
              "    </tr>\n",
              "    <tr>\n",
              "      <th>2</th>\n",
              "      <td>2021-14</td>\n",
              "      <td>РН-ЮНГ-ММ-2018-17</td>\n",
              "      <td>72.673212</td>\n",
              "      <td>60.858972</td>\n",
              "      <td>72.684567</td>\n",
              "      <td>60.864917</td>\n",
              "    </tr>\n",
              "    <tr>\n",
              "      <th>3</th>\n",
              "      <td>2021-14</td>\n",
              "      <td>РН-ЮНГ-ММ-2017-144</td>\n",
              "      <td>72.672401</td>\n",
              "      <td>60.729528</td>\n",
              "      <td>72.683711</td>\n",
              "      <td>60.735472</td>\n",
              "    </tr>\n",
              "    <tr>\n",
              "      <th>4</th>\n",
              "      <td>2021-14</td>\n",
              "      <td>РН-ЮНГ-ММ-2020-128</td>\n",
              "      <td>72.877674</td>\n",
              "      <td>60.644536</td>\n",
              "      <td>72.888993</td>\n",
              "      <td>60.650463</td>\n",
              "    </tr>\n",
              "  </tbody>\n",
              "</table>\n",
              "</div>"
            ],
            "text/plain": [
              "       dir                name         x1         y1         x2         y2\n",
              "0  2021-14  РН-ЮНГ-ММ-2018-139  72.941261  60.750928  72.952629  60.756850\n",
              "1  2021-14  РН-ЮНГ-ММ-2018-130  72.785153  60.816755  72.796515  60.822690\n",
              "2  2021-14   РН-ЮНГ-ММ-2018-17  72.673212  60.858972  72.684567  60.864917\n",
              "3  2021-14  РН-ЮНГ-ММ-2017-144  72.672401  60.729528  72.683711  60.735472\n",
              "4  2021-14  РН-ЮНГ-ММ-2020-128  72.877674  60.644536  72.888993  60.650463"
            ]
          },
          "metadata": {}
        },
        {
          "output_type": "display_data",
          "data": {
            "text/html": [
              "<div>\n",
              "<style scoped>\n",
              "    .dataframe tbody tr th:only-of-type {\n",
              "        vertical-align: middle;\n",
              "    }\n",
              "\n",
              "    .dataframe tbody tr th {\n",
              "        vertical-align: top;\n",
              "    }\n",
              "\n",
              "    .dataframe thead th {\n",
              "        text-align: right;\n",
              "    }\n",
              "</style>\n",
              "<table border=\"1\" class=\"dataframe\">\n",
              "  <thead>\n",
              "    <tr style=\"text-align: right;\">\n",
              "      <th></th>\n",
              "      <th>dir</th>\n",
              "      <th>name</th>\n",
              "      <th>id</th>\n",
              "      <th>date</th>\n",
              "    </tr>\n",
              "  </thead>\n",
              "  <tbody>\n",
              "    <tr>\n",
              "      <th>0</th>\n",
              "      <td>2021-14</td>\n",
              "      <td>РН-ЮНГ-ММ-2018-139</td>\n",
              "      <td>0</td>\n",
              "      <td>2021-02-04 06:42:18+00:00</td>\n",
              "    </tr>\n",
              "    <tr>\n",
              "      <th>1</th>\n",
              "      <td>2021-14</td>\n",
              "      <td>РН-ЮНГ-ММ-2018-139</td>\n",
              "      <td>1</td>\n",
              "      <td>2021-03-26 06:42:17+00:00</td>\n",
              "    </tr>\n",
              "    <tr>\n",
              "      <th>2</th>\n",
              "      <td>2021-14</td>\n",
              "      <td>РН-ЮНГ-ММ-2018-139</td>\n",
              "      <td>2</td>\n",
              "      <td>2021-04-12 06:32:17+00:00</td>\n",
              "    </tr>\n",
              "    <tr>\n",
              "      <th>3</th>\n",
              "      <td>2021-14</td>\n",
              "      <td>РН-ЮНГ-ММ-2018-139</td>\n",
              "      <td>3</td>\n",
              "      <td>2021-05-10 06:42:18+00:00</td>\n",
              "    </tr>\n",
              "    <tr>\n",
              "      <th>4</th>\n",
              "      <td>2021-14</td>\n",
              "      <td>РН-ЮНГ-ММ-2018-139</td>\n",
              "      <td>4</td>\n",
              "      <td>2021-05-22 06:32:20+00:00</td>\n",
              "    </tr>\n",
              "  </tbody>\n",
              "</table>\n",
              "</div>"
            ],
            "text/plain": [
              "       dir                name  id                       date\n",
              "0  2021-14  РН-ЮНГ-ММ-2018-139   0  2021-02-04 06:42:18+00:00\n",
              "1  2021-14  РН-ЮНГ-ММ-2018-139   1  2021-03-26 06:42:17+00:00\n",
              "2  2021-14  РН-ЮНГ-ММ-2018-139   2  2021-04-12 06:32:17+00:00\n",
              "3  2021-14  РН-ЮНГ-ММ-2018-139   3  2021-05-10 06:42:18+00:00\n",
              "4  2021-14  РН-ЮНГ-ММ-2018-139   4  2021-05-22 06:32:20+00:00"
            ]
          },
          "metadata": {}
        }
      ]
    },
    {
      "cell_type": "code",
      "metadata": {
        "colab": {
          "base_uri": "https://localhost:8080/",
          "height": 206
        },
        "id": "SQOutehYJ_sS",
        "outputId": "6a4055e5-1136-4e9f-b25b-570c8c718361"
      },
      "source": [
        "df = pd.read_csv('/content/clean_pollution.csv', index_col=0)\n",
        "df.head()"
      ],
      "execution_count": null,
      "outputs": [
        {
          "output_type": "execute_result",
          "data": {
            "text/html": [
              "<div>\n",
              "<style scoped>\n",
              "    .dataframe tbody tr th:only-of-type {\n",
              "        vertical-align: middle;\n",
              "    }\n",
              "\n",
              "    .dataframe tbody tr th {\n",
              "        vertical-align: top;\n",
              "    }\n",
              "\n",
              "    .dataframe thead th {\n",
              "        text-align: right;\n",
              "    }\n",
              "</style>\n",
              "<table border=\"1\" class=\"dataframe\">\n",
              "  <thead>\n",
              "    <tr style=\"text-align: right;\">\n",
              "      <th></th>\n",
              "      <th>cat_pollution</th>\n",
              "      <th>lat</th>\n",
              "      <th>lon</th>\n",
              "      <th>date</th>\n",
              "      <th>cat_ground</th>\n",
              "      <th>square</th>\n",
              "    </tr>\n",
              "  </thead>\n",
              "  <tbody>\n",
              "    <tr>\n",
              "      <th>0</th>\n",
              "      <td>нефть</td>\n",
              "      <td>73.506833</td>\n",
              "      <td>62.592583</td>\n",
              "      <td>2017-02-15 00:00:00</td>\n",
              "      <td>земли лесного фонда</td>\n",
              "      <td>0.1703</td>\n",
              "    </tr>\n",
              "    <tr>\n",
              "      <th>1</th>\n",
              "      <td>нефть</td>\n",
              "      <td>73.508194</td>\n",
              "      <td>62.543500</td>\n",
              "      <td>2017-02-15 00:00:00</td>\n",
              "      <td>земли лесного фонда</td>\n",
              "      <td>0.2595</td>\n",
              "    </tr>\n",
              "    <tr>\n",
              "      <th>2</th>\n",
              "      <td>нефть</td>\n",
              "      <td>73.347778</td>\n",
              "      <td>62.616667</td>\n",
              "      <td>2019-03-04 00:00:00</td>\n",
              "      <td>земли лесного фонда</td>\n",
              "      <td>0.1559</td>\n",
              "    </tr>\n",
              "    <tr>\n",
              "      <th>3</th>\n",
              "      <td>нефть</td>\n",
              "      <td>73.547472</td>\n",
              "      <td>62.557611</td>\n",
              "      <td>2021-02-18 00:00:00</td>\n",
              "      <td>земли лесного фонда</td>\n",
              "      <td>0.0100</td>\n",
              "    </tr>\n",
              "    <tr>\n",
              "      <th>4</th>\n",
              "      <td>нефть</td>\n",
              "      <td>73.983397</td>\n",
              "      <td>62.129353</td>\n",
              "      <td>2021-02-18 00:00:00</td>\n",
              "      <td>земли лесного фонда</td>\n",
              "      <td>0.0050</td>\n",
              "    </tr>\n",
              "  </tbody>\n",
              "</table>\n",
              "</div>"
            ],
            "text/plain": [
              "  cat_pollution        lat  ...           cat_ground  square\n",
              "0         нефть  73.506833  ...  земли лесного фонда  0.1703\n",
              "1         нефть  73.508194  ...  земли лесного фонда  0.2595\n",
              "2         нефть  73.347778  ...  земли лесного фонда  0.1559\n",
              "3         нефть  73.547472  ...  земли лесного фонда  0.0100\n",
              "4         нефть  73.983397  ...  земли лесного фонда  0.0050\n",
              "\n",
              "[5 rows x 6 columns]"
            ]
          },
          "metadata": {},
          "execution_count": 37
        }
      ]
    },
    {
      "cell_type": "code",
      "metadata": {
        "id": "-LwFZ_BBO-CP"
      },
      "source": [
        "df21 = df[df['date'].str.contains('2021').values]\n",
        "df21['filename'] = ''\n",
        "\n",
        "for filename in df_bboxes['name'].unique():\n",
        "    x1, y1, x2, y2 = df_bboxes[df_bboxes['name'] == filename][['x1', 'y1', 'x2', 'y2']].to_numpy()[0]\n",
        "    current_quadrant = df21['lat'].between(x1, x2) & df21['lon'].between(y1, y2)\n",
        "    df21['filename'][current_quadrant] = filename\n",
        "    # break\n",
        "# df21.to_csv('clean_pollution_w_names_2021.csv')\n"
      ],
      "execution_count": null,
      "outputs": []
    },
    {
      "cell_type": "code",
      "metadata": {
        "colab": {
          "base_uri": "https://localhost:8080/",
          "height": 424
        },
        "id": "YCJFNZwKhu0u",
        "outputId": "5cd67d95-524d-4178-e2fd-46ee8a36f9cf"
      },
      "source": [
        "df21"
      ],
      "execution_count": null,
      "outputs": [
        {
          "output_type": "execute_result",
          "data": {
            "text/html": [
              "<div>\n",
              "<style scoped>\n",
              "    .dataframe tbody tr th:only-of-type {\n",
              "        vertical-align: middle;\n",
              "    }\n",
              "\n",
              "    .dataframe tbody tr th {\n",
              "        vertical-align: top;\n",
              "    }\n",
              "\n",
              "    .dataframe thead th {\n",
              "        text-align: right;\n",
              "    }\n",
              "</style>\n",
              "<table border=\"1\" class=\"dataframe\">\n",
              "  <thead>\n",
              "    <tr style=\"text-align: right;\">\n",
              "      <th></th>\n",
              "      <th>cat_pollution</th>\n",
              "      <th>lat</th>\n",
              "      <th>lon</th>\n",
              "      <th>date</th>\n",
              "      <th>cat_ground</th>\n",
              "      <th>square</th>\n",
              "      <th>filename</th>\n",
              "    </tr>\n",
              "  </thead>\n",
              "  <tbody>\n",
              "    <tr>\n",
              "      <th>3</th>\n",
              "      <td>нефть</td>\n",
              "      <td>73.547472</td>\n",
              "      <td>62.557611</td>\n",
              "      <td>2021-02-18 00:00:00</td>\n",
              "      <td>земли лесного фонда</td>\n",
              "      <td>0.0100</td>\n",
              "      <td>ЛУК-КГ-2020-1</td>\n",
              "    </tr>\n",
              "    <tr>\n",
              "      <th>4</th>\n",
              "      <td>нефть</td>\n",
              "      <td>73.983397</td>\n",
              "      <td>62.129353</td>\n",
              "      <td>2021-02-18 00:00:00</td>\n",
              "      <td>земли лесного фонда</td>\n",
              "      <td>0.0050</td>\n",
              "      <td>ЛУК-КГ-2020-2</td>\n",
              "    </tr>\n",
              "    <tr>\n",
              "      <th>5</th>\n",
              "      <td>нефть</td>\n",
              "      <td>74.704083</td>\n",
              "      <td>62.139417</td>\n",
              "      <td>2021-02-18 00:00:00</td>\n",
              "      <td>земли лесного фонда</td>\n",
              "      <td>0.0115</td>\n",
              "      <td>ЛУК-КГ-2020-3</td>\n",
              "    </tr>\n",
              "    <tr>\n",
              "      <th>6</th>\n",
              "      <td>нефть</td>\n",
              "      <td>74.724694</td>\n",
              "      <td>62.150389</td>\n",
              "      <td>2021-02-18 00:00:00</td>\n",
              "      <td>земли лесного фонда</td>\n",
              "      <td>0.0042</td>\n",
              "      <td>ЛУК-КГ-2020-5</td>\n",
              "    </tr>\n",
              "    <tr>\n",
              "      <th>7</th>\n",
              "      <td>нефть</td>\n",
              "      <td>74.730750</td>\n",
              "      <td>62.152472</td>\n",
              "      <td>2021-02-18 00:00:00</td>\n",
              "      <td>земли лесного фонда</td>\n",
              "      <td>0.0129</td>\n",
              "      <td>ЛУК-КГ-2020-5</td>\n",
              "    </tr>\n",
              "    <tr>\n",
              "      <th>...</th>\n",
              "      <td>...</td>\n",
              "      <td>...</td>\n",
              "      <td>...</td>\n",
              "      <td>...</td>\n",
              "      <td>...</td>\n",
              "      <td>...</td>\n",
              "      <td>...</td>\n",
              "    </tr>\n",
              "    <tr>\n",
              "      <th>4474</th>\n",
              "      <td>нефть, нефтепродукты</td>\n",
              "      <td>79.606167</td>\n",
              "      <td>61.044278</td>\n",
              "      <td>2021-03-03 00:00:00</td>\n",
              "      <td>земли лесного фонда</td>\n",
              "      <td>0.0025</td>\n",
              "      <td>ПП-2020-2</td>\n",
              "    </tr>\n",
              "    <tr>\n",
              "      <th>4475</th>\n",
              "      <td>нефть, нефтепродукты</td>\n",
              "      <td>79.595556</td>\n",
              "      <td>61.020556</td>\n",
              "      <td>2021-03-03 00:00:00</td>\n",
              "      <td>земли лесного фонда</td>\n",
              "      <td>0.0038</td>\n",
              "      <td>ПП-2020-3</td>\n",
              "    </tr>\n",
              "    <tr>\n",
              "      <th>4476</th>\n",
              "      <td>нефть, нефтепродукты</td>\n",
              "      <td>79.585278</td>\n",
              "      <td>61.035278</td>\n",
              "      <td>2021-03-03 00:00:00</td>\n",
              "      <td>земли лесного фонда</td>\n",
              "      <td>0.0015</td>\n",
              "      <td>ПП-2020-4</td>\n",
              "    </tr>\n",
              "    <tr>\n",
              "      <th>4477</th>\n",
              "      <td>нефть, нефтепродукты</td>\n",
              "      <td>79.659722</td>\n",
              "      <td>61.061111</td>\n",
              "      <td>2021-03-03 00:00:00</td>\n",
              "      <td>земли лесного фонда</td>\n",
              "      <td>0.0005</td>\n",
              "      <td>ПП-2020-5</td>\n",
              "    </tr>\n",
              "    <tr>\n",
              "      <th>4483</th>\n",
              "      <td>подтоварная вода</td>\n",
              "      <td>77.742867</td>\n",
              "      <td>61.166608</td>\n",
              "      <td>2021-02-18 00:00:00</td>\n",
              "      <td>земли лесного фонда, земли промышленности</td>\n",
              "      <td>0.0983</td>\n",
              "      <td>ПП-2013-130</td>\n",
              "    </tr>\n",
              "  </tbody>\n",
              "</table>\n",
              "<p>1095 rows × 7 columns</p>\n",
              "</div>"
            ],
            "text/plain": [
              "             cat_pollution        lat  ...  square       filename\n",
              "3                    нефть  73.547472  ...  0.0100  ЛУК-КГ-2020-1\n",
              "4                    нефть  73.983397  ...  0.0050  ЛУК-КГ-2020-2\n",
              "5                    нефть  74.704083  ...  0.0115  ЛУК-КГ-2020-3\n",
              "6                    нефть  74.724694  ...  0.0042  ЛУК-КГ-2020-5\n",
              "7                    нефть  74.730750  ...  0.0129  ЛУК-КГ-2020-5\n",
              "...                    ...        ...  ...     ...            ...\n",
              "4474  нефть, нефтепродукты  79.606167  ...  0.0025      ПП-2020-2\n",
              "4475  нефть, нефтепродукты  79.595556  ...  0.0038      ПП-2020-3\n",
              "4476  нефть, нефтепродукты  79.585278  ...  0.0015      ПП-2020-4\n",
              "4477  нефть, нефтепродукты  79.659722  ...  0.0005      ПП-2020-5\n",
              "4483      подтоварная вода  77.742867  ...  0.0983    ПП-2013-130\n",
              "\n",
              "[1095 rows x 7 columns]"
            ]
          },
          "metadata": {},
          "execution_count": 39
        }
      ]
    },
    {
      "cell_type": "code",
      "metadata": {
        "colab": {
          "base_uri": "https://localhost:8080/",
          "height": 206
        },
        "id": "Baf1rn1feBOI",
        "outputId": "3a0879c8-5347-472d-fd85-17cd9077dde6"
      },
      "source": [
        "df21['idx'] = 0\n",
        "df21['idx_max'] = 0\n",
        "df21_2 = pd.DataFrame(columns=df21.columns)\n",
        "for filename in df21['filename'].unique():\n",
        "    spill_date = df21[df21['filename'] == filename]['date'].values[0][:7]\n",
        "    for i in df_dates[df_dates['name'] == filename][df_dates['date'].str.contains(spill_date)]['id'].to_numpy():\n",
        "        # print(i)\n",
        "        row = df21[df21['filename'] == filename]\n",
        "        row['idx'] = i\n",
        "        row['idx_max'] = max(df_dates[df_dates['name'] == filename]['id'].to_numpy())\n",
        "        df21_2 = df21_2.append(row)\n",
        "    # break\n",
        "df21_2.head()"
      ],
      "execution_count": null,
      "outputs": [
        {
          "output_type": "execute_result",
          "data": {
            "text/html": [
              "<div>\n",
              "<style scoped>\n",
              "    .dataframe tbody tr th:only-of-type {\n",
              "        vertical-align: middle;\n",
              "    }\n",
              "\n",
              "    .dataframe tbody tr th {\n",
              "        vertical-align: top;\n",
              "    }\n",
              "\n",
              "    .dataframe thead th {\n",
              "        text-align: right;\n",
              "    }\n",
              "</style>\n",
              "<table border=\"1\" class=\"dataframe\">\n",
              "  <thead>\n",
              "    <tr style=\"text-align: right;\">\n",
              "      <th></th>\n",
              "      <th>cat_pollution</th>\n",
              "      <th>lat</th>\n",
              "      <th>lon</th>\n",
              "      <th>date</th>\n",
              "      <th>cat_ground</th>\n",
              "      <th>square</th>\n",
              "      <th>filename</th>\n",
              "      <th>idx</th>\n",
              "      <th>idx_max</th>\n",
              "    </tr>\n",
              "  </thead>\n",
              "  <tbody>\n",
              "    <tr>\n",
              "      <th>3</th>\n",
              "      <td>нефть</td>\n",
              "      <td>73.547472</td>\n",
              "      <td>62.557611</td>\n",
              "      <td>2021-02-18 00:00:00</td>\n",
              "      <td>земли лесного фонда</td>\n",
              "      <td>0.0100</td>\n",
              "      <td>ЛУК-КГ-2020-1</td>\n",
              "      <td>0</td>\n",
              "      <td>18</td>\n",
              "    </tr>\n",
              "    <tr>\n",
              "      <th>3</th>\n",
              "      <td>нефть</td>\n",
              "      <td>73.547472</td>\n",
              "      <td>62.557611</td>\n",
              "      <td>2021-02-18 00:00:00</td>\n",
              "      <td>земли лесного фонда</td>\n",
              "      <td>0.0100</td>\n",
              "      <td>ЛУК-КГ-2020-1</td>\n",
              "      <td>1</td>\n",
              "      <td>18</td>\n",
              "    </tr>\n",
              "    <tr>\n",
              "      <th>4</th>\n",
              "      <td>нефть</td>\n",
              "      <td>73.983397</td>\n",
              "      <td>62.129353</td>\n",
              "      <td>2021-02-18 00:00:00</td>\n",
              "      <td>земли лесного фонда</td>\n",
              "      <td>0.0050</td>\n",
              "      <td>ЛУК-КГ-2020-2</td>\n",
              "      <td>0</td>\n",
              "      <td>17</td>\n",
              "    </tr>\n",
              "    <tr>\n",
              "      <th>40</th>\n",
              "      <td>нефтепродукты</td>\n",
              "      <td>61.043514</td>\n",
              "      <td>63.788392</td>\n",
              "      <td>2021-02-18 00:00:00</td>\n",
              "      <td>земли лесного фонда</td>\n",
              "      <td>0.0064</td>\n",
              "      <td>ЛУК-2020-1</td>\n",
              "      <td>0</td>\n",
              "      <td>15</td>\n",
              "    </tr>\n",
              "    <tr>\n",
              "      <th>40</th>\n",
              "      <td>нефтепродукты</td>\n",
              "      <td>61.043514</td>\n",
              "      <td>63.788392</td>\n",
              "      <td>2021-02-18 00:00:00</td>\n",
              "      <td>земли лесного фонда</td>\n",
              "      <td>0.0064</td>\n",
              "      <td>ЛУК-2020-1</td>\n",
              "      <td>1</td>\n",
              "      <td>15</td>\n",
              "    </tr>\n",
              "  </tbody>\n",
              "</table>\n",
              "</div>"
            ],
            "text/plain": [
              "    cat_pollution        lat        lon  ...       filename idx  idx_max\n",
              "3           нефть  73.547472  62.557611  ...  ЛУК-КГ-2020-1   0       18\n",
              "3           нефть  73.547472  62.557611  ...  ЛУК-КГ-2020-1   1       18\n",
              "4           нефть  73.983397  62.129353  ...  ЛУК-КГ-2020-2   0       17\n",
              "40  нефтепродукты  61.043514  63.788392  ...     ЛУК-2020-1   0       15\n",
              "40  нефтепродукты  61.043514  63.788392  ...     ЛУК-2020-1   1       15\n",
              "\n",
              "[5 rows x 9 columns]"
            ]
          },
          "metadata": {},
          "execution_count": 40
        }
      ]
    },
    {
      "cell_type": "code",
      "metadata": {
        "colab": {
          "base_uri": "https://localhost:8080/"
        },
        "id": "2whnJT52ugKi",
        "outputId": "bb33d9f6-2b73-412b-a998-d3d5bc7e8cc2"
      },
      "source": [
        "df21_2.shape"
      ],
      "execution_count": null,
      "outputs": [
        {
          "output_type": "execute_result",
          "data": {
            "text/plain": [
              "(910, 9)"
            ]
          },
          "metadata": {},
          "execution_count": 41
        }
      ]
    },
    {
      "cell_type": "code",
      "metadata": {
        "colab": {
          "base_uri": "https://localhost:8080/"
        },
        "id": "jPe6gRYl9mz8",
        "outputId": "19563f55-6dc9-4c85-b383-9b99ed690c0a"
      },
      "source": [
        "df21_2['idx_max'].unique()"
      ],
      "execution_count": null,
      "outputs": [
        {
          "output_type": "execute_result",
          "data": {
            "text/plain": [
              "array([18, 17, 15, 38, 9, 8, 11, 10, 23, 13, 16, 12, 19, 21, 20, 28, 25,\n",
              "       27, 6, 29], dtype=object)"
            ]
          },
          "metadata": {},
          "execution_count": 42
        }
      ]
    },
    {
      "cell_type": "code",
      "metadata": {
        "id": "g9DAjkgNeLW4"
      },
      "source": [
        "df21_2.to_csv('clean_pollution_w_names_n_idx_2021.csv')\n",
        "!rm /content/drive/MyDrive/colab_files/final/clean_pollution_w_names_n_idx_2021.csv \n",
        "!cp /content/clean_pollution_w_names_n_idx_2021.csv /content/drive/MyDrive/colab_files/final/clean_pollution_w_names_n_idx_2021.csv "
      ],
      "execution_count": null,
      "outputs": []
    },
    {
      "cell_type": "code",
      "metadata": {
        "id": "skNR4h6BN-ga"
      },
      "source": [
        ""
      ],
      "execution_count": null,
      "outputs": []
    },
    {
      "cell_type": "markdown",
      "metadata": {
        "id": "87HxOZLOm1nz"
      },
      "source": [
        "# Сборка датасета"
      ]
    },
    {
      "cell_type": "markdown",
      "metadata": {
        "id": "iR7TkC7-m9wq"
      },
      "source": [
        "## Функции"
      ]
    },
    {
      "cell_type": "code",
      "metadata": {
        "id": "np7MEi95RiZF"
      },
      "source": [
        "def read_file(item, label):\n",
        "    eopatch = EOPatch.load(item[0].numpy().decode())\n",
        "    img = eopatch.data['L2A']\n",
        "    masks = [eopatch.mask[x] for x in eopatch.mask]\n",
        "    return np.concatenate([img] + masks, axis=-1), label\n"
      ],
      "execution_count": null,
      "outputs": []
    },
    {
      "cell_type": "code",
      "metadata": {
        "id": "lF2DZfj7lgyU"
      },
      "source": [
        "@tf.function()\n",
        "def augmentation(img, label):\n",
        "    '''\n",
        "    Случайное вращение и отражение изображения для аугментации\n",
        "    '''\n",
        "    if tf.random.uniform(()) > 0.5:\n",
        "    # Случайное отражение по горизонтали\n",
        "        img = tf.image.flip_left_right(img)\n",
        "\n",
        "    if tf.random.uniform(()) > 0.5:\n",
        "    # Случайное отражение по вертикали\n",
        "        img = tf.image.flip_up_down(img)\n",
        "\n",
        "    if tf.random.uniform(()) > 0.5:\n",
        "    # Случайное транспонирование\n",
        "        img = tf.image.transpose(img)\n",
        "\n",
        "    # if tf.random.uniform(()) > 0.5:\n",
        "    #     # Вращение\n",
        "    #     img = rotation(img)\n",
        "\n",
        "    if tf.random.uniform(()) > 0.1:\n",
        "    # Зашумление картинки\n",
        "        img = tf.cast(img, tf.float32) + tf.random.uniform((tf.shape(img)), tf.random.uniform((), .3, .8), 0.99)\n",
        "\n",
        "    return img, label"
      ],
      "execution_count": null,
      "outputs": []
    },
    {
      "cell_type": "markdown",
      "metadata": {
        "id": "9Lh71bHDnAu7"
      },
      "source": [
        "## Датасет"
      ]
    },
    {
      "cell_type": "code",
      "metadata": {
        "id": "YqJiK507Qjyh"
      },
      "source": [
        "data_list_true = glob.glob('/content/spills2/*/*')\n",
        "data_labels_true = list(np.ones(len(data_list_true), dtype=np.float32))\n",
        "\n",
        "data_list_false = glob.glob('/content/non_spills2/*/*')\n",
        "data_labels_false = list(np.zeros(len(data_list_false), dtype=np.float32))\n",
        "\n",
        "data_list = data_list_true + data_list_false\n",
        "data_labels = data_labels_true + data_labels_false\n",
        "\n",
        "random_choice = np.random.choice(len(data_list), len(data_list), replace=False)\n",
        "data_list = np.array(data_list)[random_choice]\n",
        "data_labels = np.array(data_labels)[random_choice]"
      ],
      "execution_count": null,
      "outputs": []
    },
    {
      "cell_type": "code",
      "metadata": {
        "colab": {
          "base_uri": "https://localhost:8080/"
        },
        "id": "ZpCpS9Pc4oly",
        "outputId": "b17e6f8e-0c87-4f9a-96e4-d10ad9ba18ab"
      },
      "source": [
        "random_choise[:10]"
      ],
      "execution_count": null,
      "outputs": [
        {
          "output_type": "execute_result",
          "data": {
            "text/plain": [
              "array([ 795,  398, 1113,  498,  762,  556,   90, 1157, 1563,  354])"
            ]
          },
          "metadata": {},
          "execution_count": 46
        }
      ]
    },
    {
      "cell_type": "code",
      "metadata": {
        "colab": {
          "base_uri": "https://localhost:8080/"
        },
        "id": "BDJ7wwSP43Zf",
        "outputId": "27b8a4fd-83c6-4dbc-805b-0c67959f979e"
      },
      "source": [
        "data_labels[:10]"
      ],
      "execution_count": null,
      "outputs": [
        {
          "output_type": "execute_result",
          "data": {
            "text/plain": [
              "array([0., 1., 0., 1., 1., 0., 0., 1., 1., 0.], dtype=float32)"
            ]
          },
          "metadata": {},
          "execution_count": 48
        }
      ]
    },
    {
      "cell_type": "code",
      "metadata": {
        "colab": {
          "base_uri": "https://localhost:8080/"
        },
        "id": "d_xu2NfVnGHI",
        "outputId": "27049740-57ba-4a1e-dcc5-385d9dcd17da"
      },
      "source": [
        "dataset_list = tf.data.Dataset.from_tensor_slices(data_list)\n",
        "dataset_labels = tf.data.Dataset.from_tensor_slices(data_labels)\n",
        "\n",
        "dataset = tf.data.Dataset.zip((dataset_list, dataset_labels)).shuffle(512).batch(1)\n",
        "\n",
        "# функция подгрузки изображений\n",
        "dataset = dataset.map(\n",
        "        lambda item, label: tuple(tf.py_function(read_file, [item, label], [tf.float32, tf.float32])))\n",
        "\n",
        "# слой вращения\n",
        "rotation = layers.experimental.preprocessing.RandomRotation(factor=0.07)\n",
        "\n",
        "# функция аугментации изображений\n",
        "dataset = dataset.map(augmentation, num_parallel_calls=tf.data.AUTOTUNE)\n",
        "\n",
        "# dataset = dataset.map(lambda item, label: augmentation(item, label), num_parallel_calls=tf.data.AUTOTUNE)\n",
        "\n",
        "for i, batch in enumerate(dataset):\n",
        "    print(len(batch))\n",
        "    print(batch[0].shape)\n",
        "    if i > 4:\n",
        "        break"
      ],
      "execution_count": null,
      "outputs": [
        {
          "output_type": "stream",
          "name": "stdout",
          "text": [
            "2\n",
            "(39, 64, 64, 19)\n",
            "2\n",
            "(16, 64, 64, 19)\n",
            "2\n",
            "(16, 64, 64, 19)\n",
            "2\n",
            "(15, 64, 64, 19)\n",
            "2\n",
            "(11, 64, 64, 19)\n",
            "2\n",
            "(16, 64, 64, 19)\n"
          ]
        }
      ]
    },
    {
      "cell_type": "code",
      "metadata": {
        "colab": {
          "base_uri": "https://localhost:8080/",
          "height": 268
        },
        "id": "Ls7hOb32f8Rv",
        "outputId": "7b8bbcd4-ccdb-46b1-ac20-88d05e09f1c3"
      },
      "source": [
        "plt.imshow(batch[0][0, ..., 4])\n",
        "plt.show()"
      ],
      "execution_count": null,
      "outputs": [
        {
          "output_type": "display_data",
          "data": {
            "image/png": "[encoded data removed]",
            "text/plain": [
              "<Figure size 432x288 with 1 Axes>"
            ]
          },
          "metadata": {
            "needs_background": "light"
          }
        }
      ]
    },
    {
      "cell_type": "code",
      "metadata": {
        "id": "2j-pnxntp5-a"
      },
      "source": [
        ""
      ],
      "execution_count": null,
      "outputs": []
    }
  ]
}